{
 "cells": [
  {
   "cell_type": "code",
   "execution_count": 81,
   "id": "38b5670a",
   "metadata": {},
   "outputs": [],
   "source": [
    "#import the libaries to work with\n",
    "import pandas as pd\n",
    "import matplotlib.pyplot as plt\n",
    "\n",
    "#%matplotlib inline\n",
    "import seaborn as sns"
   ]
  },
  {
   "cell_type": "code",
   "execution_count": 82,
   "id": "578d30b4",
   "metadata": {},
   "outputs": [],
   "source": [
    "import pandas as pd\n",
    "Data_ALE = pd.read_csv(r'mcs_ds_edited_iter_shuffled.csv')"
   ]
  },
  {
   "cell_type": "code",
   "execution_count": 83,
   "id": "9d9190f0",
   "metadata": {},
   "outputs": [
    {
     "data": {
      "text/html": [
       "<div>\n",
       "<style scoped>\n",
       "    .dataframe tbody tr th:only-of-type {\n",
       "        vertical-align: middle;\n",
       "    }\n",
       "\n",
       "    .dataframe tbody tr th {\n",
       "        vertical-align: top;\n",
       "    }\n",
       "\n",
       "    .dataframe thead th {\n",
       "        text-align: right;\n",
       "    }\n",
       "</style>\n",
       "<table border=\"1\" class=\"dataframe\">\n",
       "  <thead>\n",
       "    <tr style=\"text-align: right;\">\n",
       "      <th></th>\n",
       "      <th>anchor_ratio</th>\n",
       "      <th>trans_range</th>\n",
       "      <th>node_density</th>\n",
       "      <th>iterations</th>\n",
       "      <th>ale</th>\n",
       "      <th>sd_ale</th>\n",
       "    </tr>\n",
       "  </thead>\n",
       "  <tbody>\n",
       "    <tr>\n",
       "      <th>0</th>\n",
       "      <td>30</td>\n",
       "      <td>15</td>\n",
       "      <td>200</td>\n",
       "      <td>40</td>\n",
       "      <td>0.773546</td>\n",
       "      <td>0.250555</td>\n",
       "    </tr>\n",
       "    <tr>\n",
       "      <th>1</th>\n",
       "      <td>15</td>\n",
       "      <td>15</td>\n",
       "      <td>100</td>\n",
       "      <td>70</td>\n",
       "      <td>0.911941</td>\n",
       "      <td>0.498329</td>\n",
       "    </tr>\n",
       "    <tr>\n",
       "      <th>2</th>\n",
       "      <td>30</td>\n",
       "      <td>15</td>\n",
       "      <td>100</td>\n",
       "      <td>50</td>\n",
       "      <td>0.814867</td>\n",
       "      <td>0.255546</td>\n",
       "    </tr>\n",
       "    <tr>\n",
       "      <th>3</th>\n",
       "      <td>15</td>\n",
       "      <td>20</td>\n",
       "      <td>100</td>\n",
       "      <td>20</td>\n",
       "      <td>1.435332</td>\n",
       "      <td>0.394603</td>\n",
       "    </tr>\n",
       "    <tr>\n",
       "      <th>4</th>\n",
       "      <td>30</td>\n",
       "      <td>15</td>\n",
       "      <td>100</td>\n",
       "      <td>40</td>\n",
       "      <td>1.265909</td>\n",
       "      <td>0.302943</td>\n",
       "    </tr>\n",
       "  </tbody>\n",
       "</table>\n",
       "</div>"
      ],
      "text/plain": [
       "   anchor_ratio  trans_range  node_density  iterations       ale    sd_ale\n",
       "0            30           15           200          40  0.773546  0.250555\n",
       "1            15           15           100          70  0.911941  0.498329\n",
       "2            30           15           100          50  0.814867  0.255546\n",
       "3            15           20           100          20  1.435332  0.394603\n",
       "4            30           15           100          40  1.265909  0.302943"
      ]
     },
     "execution_count": 83,
     "metadata": {},
     "output_type": "execute_result"
    }
   ],
   "source": [
    "Data_ALE.head()"
   ]
  },
  {
   "cell_type": "code",
   "execution_count": 84,
   "id": "a726d8b3",
   "metadata": {},
   "outputs": [
    {
     "data": {
      "text/html": [
       "<div>\n",
       "<style scoped>\n",
       "    .dataframe tbody tr th:only-of-type {\n",
       "        vertical-align: middle;\n",
       "    }\n",
       "\n",
       "    .dataframe tbody tr th {\n",
       "        vertical-align: top;\n",
       "    }\n",
       "\n",
       "    .dataframe thead th {\n",
       "        text-align: right;\n",
       "    }\n",
       "</style>\n",
       "<table border=\"1\" class=\"dataframe\">\n",
       "  <thead>\n",
       "    <tr style=\"text-align: right;\">\n",
       "      <th></th>\n",
       "      <th>anchor_ratio</th>\n",
       "      <th>trans_range</th>\n",
       "      <th>node_density</th>\n",
       "      <th>iterations</th>\n",
       "      <th>ale</th>\n",
       "      <th>sd_ale</th>\n",
       "    </tr>\n",
       "  </thead>\n",
       "  <tbody>\n",
       "    <tr>\n",
       "      <th>102</th>\n",
       "      <td>18</td>\n",
       "      <td>23</td>\n",
       "      <td>100</td>\n",
       "      <td>20</td>\n",
       "      <td>1.287472</td>\n",
       "      <td>0.375227</td>\n",
       "    </tr>\n",
       "    <tr>\n",
       "      <th>103</th>\n",
       "      <td>14</td>\n",
       "      <td>17</td>\n",
       "      <td>200</td>\n",
       "      <td>60</td>\n",
       "      <td>0.899102</td>\n",
       "      <td>0.231822</td>\n",
       "    </tr>\n",
       "    <tr>\n",
       "      <th>104</th>\n",
       "      <td>15</td>\n",
       "      <td>20</td>\n",
       "      <td>100</td>\n",
       "      <td>50</td>\n",
       "      <td>1.171140</td>\n",
       "      <td>0.372001</td>\n",
       "    </tr>\n",
       "    <tr>\n",
       "      <th>105</th>\n",
       "      <td>20</td>\n",
       "      <td>20</td>\n",
       "      <td>100</td>\n",
       "      <td>40</td>\n",
       "      <td>1.234493</td>\n",
       "      <td>0.599834</td>\n",
       "    </tr>\n",
       "    <tr>\n",
       "      <th>106</th>\n",
       "      <td>15</td>\n",
       "      <td>15</td>\n",
       "      <td>200</td>\n",
       "      <td>40</td>\n",
       "      <td>0.635426</td>\n",
       "      <td>0.139791</td>\n",
       "    </tr>\n",
       "  </tbody>\n",
       "</table>\n",
       "</div>"
      ],
      "text/plain": [
       "     anchor_ratio  trans_range  node_density  iterations       ale    sd_ale\n",
       "102            18           23           100          20  1.287472  0.375227\n",
       "103            14           17           200          60  0.899102  0.231822\n",
       "104            15           20           100          50  1.171140  0.372001\n",
       "105            20           20           100          40  1.234493  0.599834\n",
       "106            15           15           200          40  0.635426  0.139791"
      ]
     },
     "execution_count": 84,
     "metadata": {},
     "output_type": "execute_result"
    }
   ],
   "source": [
    "Data_ALE.tail()"
   ]
  },
  {
   "cell_type": "code",
   "execution_count": 85,
   "id": "2c8a0b0b",
   "metadata": {},
   "outputs": [
    {
     "data": {
      "text/plain": [
       "anchor_ratio    0\n",
       "trans_range     0\n",
       "node_density    0\n",
       "iterations      0\n",
       "ale             0\n",
       "sd_ale          0\n",
       "dtype: int64"
      ]
     },
     "execution_count": 85,
     "metadata": {},
     "output_type": "execute_result"
    }
   ],
   "source": [
    "#what are the rows with NaN values\n",
    "Data_ALE.isna().sum()"
   ]
  },
  {
   "cell_type": "code",
   "execution_count": 86,
   "id": "e2da7c77",
   "metadata": {},
   "outputs": [
    {
     "data": {
      "text/plain": [
       "Index(['anchor_ratio', 'trans_range', 'node_density', 'iterations', 'ale',\n",
       "       'sd_ale'],\n",
       "      dtype='object')"
      ]
     },
     "execution_count": 86,
     "metadata": {},
     "output_type": "execute_result"
    }
   ],
   "source": [
    "#if the data set had a large number of columns, you can view the column names by accessing the columns attribute\n",
    "Data_ALE.columns"
   ]
  },
  {
   "cell_type": "code",
   "execution_count": 87,
   "id": "1e1b27e4",
   "metadata": {},
   "outputs": [
    {
     "data": {
      "text/html": [
       "<div>\n",
       "<style scoped>\n",
       "    .dataframe tbody tr th:only-of-type {\n",
       "        vertical-align: middle;\n",
       "    }\n",
       "\n",
       "    .dataframe tbody tr th {\n",
       "        vertical-align: top;\n",
       "    }\n",
       "\n",
       "    .dataframe thead th {\n",
       "        text-align: right;\n",
       "    }\n",
       "</style>\n",
       "<table border=\"1\" class=\"dataframe\">\n",
       "  <thead>\n",
       "    <tr style=\"text-align: right;\">\n",
       "      <th></th>\n",
       "      <th>anchor_ratio</th>\n",
       "      <th>trans_range</th>\n",
       "      <th>node_density</th>\n",
       "      <th>iterations</th>\n",
       "      <th>ale</th>\n",
       "      <th>sd_ale</th>\n",
       "    </tr>\n",
       "  </thead>\n",
       "  <tbody>\n",
       "    <tr>\n",
       "      <th>count</th>\n",
       "      <td>107.000000</td>\n",
       "      <td>107.000000</td>\n",
       "      <td>107.000000</td>\n",
       "      <td>107.000000</td>\n",
       "      <td>107.000000</td>\n",
       "      <td>107.000000</td>\n",
       "    </tr>\n",
       "    <tr>\n",
       "      <th>mean</th>\n",
       "      <td>20.523364</td>\n",
       "      <td>17.878505</td>\n",
       "      <td>159.813084</td>\n",
       "      <td>47.887850</td>\n",
       "      <td>0.983471</td>\n",
       "      <td>0.265692</td>\n",
       "    </tr>\n",
       "    <tr>\n",
       "      <th>std</th>\n",
       "      <td>6.739556</td>\n",
       "      <td>3.107235</td>\n",
       "      <td>71.189109</td>\n",
       "      <td>24.668874</td>\n",
       "      <td>0.408313</td>\n",
       "      <td>0.183394</td>\n",
       "    </tr>\n",
       "    <tr>\n",
       "      <th>min</th>\n",
       "      <td>10.000000</td>\n",
       "      <td>12.000000</td>\n",
       "      <td>100.000000</td>\n",
       "      <td>14.000000</td>\n",
       "      <td>0.394029</td>\n",
       "      <td>0.003267</td>\n",
       "    </tr>\n",
       "    <tr>\n",
       "      <th>25%</th>\n",
       "      <td>15.000000</td>\n",
       "      <td>15.000000</td>\n",
       "      <td>100.000000</td>\n",
       "      <td>30.000000</td>\n",
       "      <td>0.655368</td>\n",
       "      <td>0.128437</td>\n",
       "    </tr>\n",
       "    <tr>\n",
       "      <th>50%</th>\n",
       "      <td>18.000000</td>\n",
       "      <td>17.000000</td>\n",
       "      <td>100.000000</td>\n",
       "      <td>40.000000</td>\n",
       "      <td>0.899102</td>\n",
       "      <td>0.242423</td>\n",
       "    </tr>\n",
       "    <tr>\n",
       "      <th>75%</th>\n",
       "      <td>30.000000</td>\n",
       "      <td>20.000000</td>\n",
       "      <td>200.000000</td>\n",
       "      <td>70.000000</td>\n",
       "      <td>1.196418</td>\n",
       "      <td>0.362762</td>\n",
       "    </tr>\n",
       "    <tr>\n",
       "      <th>max</th>\n",
       "      <td>30.000000</td>\n",
       "      <td>25.000000</td>\n",
       "      <td>300.000000</td>\n",
       "      <td>100.000000</td>\n",
       "      <td>2.568407</td>\n",
       "      <td>1.092220</td>\n",
       "    </tr>\n",
       "  </tbody>\n",
       "</table>\n",
       "</div>"
      ],
      "text/plain": [
       "       anchor_ratio  trans_range  node_density  iterations         ale  \\\n",
       "count    107.000000   107.000000    107.000000  107.000000  107.000000   \n",
       "mean      20.523364    17.878505    159.813084   47.887850    0.983471   \n",
       "std        6.739556     3.107235     71.189109   24.668874    0.408313   \n",
       "min       10.000000    12.000000    100.000000   14.000000    0.394029   \n",
       "25%       15.000000    15.000000    100.000000   30.000000    0.655368   \n",
       "50%       18.000000    17.000000    100.000000   40.000000    0.899102   \n",
       "75%       30.000000    20.000000    200.000000   70.000000    1.196418   \n",
       "max       30.000000    25.000000    300.000000  100.000000    2.568407   \n",
       "\n",
       "           sd_ale  \n",
       "count  107.000000  \n",
       "mean     0.265692  \n",
       "std      0.183394  \n",
       "min      0.003267  \n",
       "25%      0.128437  \n",
       "50%      0.242423  \n",
       "75%      0.362762  \n",
       "max      1.092220  "
      ]
     },
     "execution_count": 87,
     "metadata": {},
     "output_type": "execute_result"
    }
   ],
   "source": [
    "#use describe() to see summary statistics of numeric columns\n",
    "Data_ALE.describe()"
   ]
  },
  {
   "cell_type": "code",
   "execution_count": 88,
   "id": "6b9425dc",
   "metadata": {},
   "outputs": [
    {
     "data": {
      "text/plain": [
       "anchor_ratio    0\n",
       "trans_range     0\n",
       "node_density    0\n",
       "iterations      0\n",
       "ale             0\n",
       "sd_ale          0\n",
       "dtype: int64"
      ]
     },
     "execution_count": 88,
     "metadata": {},
     "output_type": "execute_result"
    }
   ],
   "source": [
    "#check for missing data\n",
    "Data_ALE.isna().sum()"
   ]
  },
  {
   "cell_type": "code",
   "execution_count": 89,
   "id": "57e8e157",
   "metadata": {},
   "outputs": [
    {
     "data": {
      "text/plain": [
       "15    41\n",
       "30    29\n",
       "14     9\n",
       "20     8\n",
       "18     6\n",
       "22     6\n",
       "10     2\n",
       "26     2\n",
       "29     2\n",
       "27     1\n",
       "28     1\n",
       "Name: anchor_ratio, dtype: int64"
      ]
     },
     "execution_count": 89,
     "metadata": {},
     "output_type": "execute_result"
    }
   ],
   "source": [
    "Data_ALE.anchor_ratio.value_counts()"
   ]
  },
  {
   "cell_type": "code",
   "execution_count": 90,
   "id": "4c91ed8b",
   "metadata": {},
   "outputs": [
    {
     "data": {
      "text/plain": [
       "15    44\n",
       "20    33\n",
       "17     9\n",
       "18     6\n",
       "23     6\n",
       "25     6\n",
       "16     2\n",
       "12     1\n",
       "Name: trans_range, dtype: int64"
      ]
     },
     "execution_count": 90,
     "metadata": {},
     "output_type": "execute_result"
    }
   ],
   "source": [
    "Data_ALE.trans_range.value_counts()"
   ]
  },
  {
   "cell_type": "code",
   "execution_count": 91,
   "id": "cc2050bb",
   "metadata": {},
   "outputs": [
    {
     "data": {
      "text/plain": [
       "100    57\n",
       "200    36\n",
       "300    14\n",
       "Name: node_density, dtype: int64"
      ]
     },
     "execution_count": 91,
     "metadata": {},
     "output_type": "execute_result"
    }
   ],
   "source": [
    "Data_ALE.node_density.value_counts()"
   ]
  },
  {
   "cell_type": "code",
   "execution_count": 92,
   "id": "dad0aff9",
   "metadata": {},
   "outputs": [
    {
     "data": {
      "text/plain": [
       "20     14\n",
       "30     13\n",
       "40     13\n",
       "50     12\n",
       "70     10\n",
       "80      9\n",
       "60      9\n",
       "100     5\n",
       "90      5\n",
       "16      3\n",
       "18      2\n",
       "24      2\n",
       "42      1\n",
       "48      1\n",
       "14      1\n",
       "36      1\n",
       "15      1\n",
       "34      1\n",
       "25      1\n",
       "22      1\n",
       "21      1\n",
       "35      1\n",
       "Name: iterations, dtype: int64"
      ]
     },
     "execution_count": 92,
     "metadata": {},
     "output_type": "execute_result"
    }
   ],
   "source": [
    "Data_ALE.iterations.value_counts()"
   ]
  },
  {
   "cell_type": "code",
   "execution_count": 93,
   "id": "ffcb00d6",
   "metadata": {},
   "outputs": [
    {
     "name": "stdout",
     "output_type": "stream",
     "text": [
      "anchor_ratio\n",
      "10    200\n",
      "14    200\n",
      "15    300\n",
      "18    100\n",
      "20    200\n",
      "22    100\n",
      "26    300\n",
      "27    300\n",
      "28    100\n",
      "29    100\n",
      "Name: node_density, dtype: int64\n"
     ]
    }
   ],
   "source": [
    "top_ten = Data_ALE.groupby('anchor_ratio').node_density.max()[:10]\n",
    "\n",
    "print (top_ten)"
   ]
  },
  {
   "cell_type": "code",
   "execution_count": 94,
   "id": "6c575401",
   "metadata": {},
   "outputs": [
    {
     "data": {
      "text/plain": [
       "<BarContainer object of 10 artists>"
      ]
     },
     "execution_count": 94,
     "metadata": {},
     "output_type": "execute_result"
    },
    {
     "data": {
      "image/png": "[encoded data removed]",
      "text/plain": [
       "<Figure size 432x288 with 1 Axes>"
      ]
     },
     "metadata": {
      "needs_background": "light"
     },
     "output_type": "display_data"
    }
   ],
   "source": [
    "plt.bar(x=top_ten.index[:10], height=top_ten[:10])"
   ]
  },
  {
   "cell_type": "code",
   "execution_count": 95,
   "id": "ddabfb6e",
   "metadata": {},
   "outputs": [
    {
     "name": "stdout",
     "output_type": "stream",
     "text": [
      "trans_range\n",
      "12    34\n",
      "15    16\n",
      "16    16\n",
      "17    20\n",
      "18    18\n",
      "20    20\n",
      "23    14\n",
      "25    15\n",
      "Name: iterations, dtype: int64\n"
     ]
    }
   ],
   "source": [
    "last_ten = Data_ALE.groupby('trans_range').iterations.min()[:10]\n",
    "\n",
    "print (last_ten)"
   ]
  },
  {
   "cell_type": "code",
   "execution_count": 96,
   "id": "2c092e92",
   "metadata": {},
   "outputs": [
    {
     "data": {
      "image/png": "[encoded data removed]",
      "text/plain": [
       "<Figure size 432x288 with 1 Axes>"
      ]
     },
     "metadata": {},
     "output_type": "display_data"
    }
   ],
   "source": [
    "plt.pie(last_ten, labels=last_ten.index)\n",
    "\n",
    "plt.show()"
   ]
  },
  {
   "cell_type": "code",
   "execution_count": 97,
   "id": "ac001127",
   "metadata": {},
   "outputs": [
    {
     "data": {
      "text/html": [
       "<div>\n",
       "<style scoped>\n",
       "    .dataframe tbody tr th:only-of-type {\n",
       "        vertical-align: middle;\n",
       "    }\n",
       "\n",
       "    .dataframe tbody tr th {\n",
       "        vertical-align: top;\n",
       "    }\n",
       "\n",
       "    .dataframe thead th {\n",
       "        text-align: right;\n",
       "    }\n",
       "</style>\n",
       "<table border=\"1\" class=\"dataframe\">\n",
       "  <thead>\n",
       "    <tr style=\"text-align: right;\">\n",
       "      <th></th>\n",
       "      <th>anchor_ratio</th>\n",
       "      <th>trans_range</th>\n",
       "      <th>node_density</th>\n",
       "      <th>iterations</th>\n",
       "      <th>ale</th>\n",
       "      <th>sd_ale</th>\n",
       "    </tr>\n",
       "  </thead>\n",
       "  <tbody>\n",
       "    <tr>\n",
       "      <th>anchor_ratio</th>\n",
       "      <td>1.000000</td>\n",
       "      <td>-0.094692</td>\n",
       "      <td>-0.116986</td>\n",
       "      <td>0.023167</td>\n",
       "      <td>-0.074997</td>\n",
       "      <td>-0.104657</td>\n",
       "    </tr>\n",
       "    <tr>\n",
       "      <th>trans_range</th>\n",
       "      <td>-0.094692</td>\n",
       "      <td>1.000000</td>\n",
       "      <td>-0.244055</td>\n",
       "      <td>-0.199315</td>\n",
       "      <td>0.109309</td>\n",
       "      <td>-0.076483</td>\n",
       "    </tr>\n",
       "    <tr>\n",
       "      <th>node_density</th>\n",
       "      <td>-0.116986</td>\n",
       "      <td>-0.244055</td>\n",
       "      <td>1.000000</td>\n",
       "      <td>-0.072426</td>\n",
       "      <td>-0.645927</td>\n",
       "      <td>-0.639097</td>\n",
       "    </tr>\n",
       "    <tr>\n",
       "      <th>iterations</th>\n",
       "      <td>0.023167</td>\n",
       "      <td>-0.199315</td>\n",
       "      <td>-0.072426</td>\n",
       "      <td>1.000000</td>\n",
       "      <td>-0.400394</td>\n",
       "      <td>-0.198966</td>\n",
       "    </tr>\n",
       "    <tr>\n",
       "      <th>ale</th>\n",
       "      <td>-0.074997</td>\n",
       "      <td>0.109309</td>\n",
       "      <td>-0.645927</td>\n",
       "      <td>-0.400394</td>\n",
       "      <td>1.000000</td>\n",
       "      <td>0.743958</td>\n",
       "    </tr>\n",
       "    <tr>\n",
       "      <th>sd_ale</th>\n",
       "      <td>-0.104657</td>\n",
       "      <td>-0.076483</td>\n",
       "      <td>-0.639097</td>\n",
       "      <td>-0.198966</td>\n",
       "      <td>0.743958</td>\n",
       "      <td>1.000000</td>\n",
       "    </tr>\n",
       "  </tbody>\n",
       "</table>\n",
       "</div>"
      ],
      "text/plain": [
       "              anchor_ratio  trans_range  node_density  iterations       ale  \\\n",
       "anchor_ratio      1.000000    -0.094692     -0.116986    0.023167 -0.074997   \n",
       "trans_range      -0.094692     1.000000     -0.244055   -0.199315  0.109309   \n",
       "node_density     -0.116986    -0.244055      1.000000   -0.072426 -0.645927   \n",
       "iterations        0.023167    -0.199315     -0.072426    1.000000 -0.400394   \n",
       "ale              -0.074997     0.109309     -0.645927   -0.400394  1.000000   \n",
       "sd_ale           -0.104657    -0.076483     -0.639097   -0.198966  0.743958   \n",
       "\n",
       "                sd_ale  \n",
       "anchor_ratio -0.104657  \n",
       "trans_range  -0.076483  \n",
       "node_density -0.639097  \n",
       "iterations   -0.198966  \n",
       "ale           0.743958  \n",
       "sd_ale        1.000000  "
      ]
     },
     "execution_count": 97,
     "metadata": {},
     "output_type": "execute_result"
    }
   ],
   "source": [
    "#To explore correlation\n",
    "Data_ALE.corr()"
   ]
  },
  {
   "cell_type": "code",
   "execution_count": 98,
   "id": "b320d03f",
   "metadata": {},
   "outputs": [
    {
     "data": {
      "text/html": [
       "<div>\n",
       "<style scoped>\n",
       "    .dataframe tbody tr th:only-of-type {\n",
       "        vertical-align: middle;\n",
       "    }\n",
       "\n",
       "    .dataframe tbody tr th {\n",
       "        vertical-align: top;\n",
       "    }\n",
       "\n",
       "    .dataframe thead th {\n",
       "        text-align: right;\n",
       "    }\n",
       "</style>\n",
       "<table border=\"1\" class=\"dataframe\">\n",
       "  <thead>\n",
       "    <tr style=\"text-align: right;\">\n",
       "      <th></th>\n",
       "      <th>anchor_ratio</th>\n",
       "      <th>trans_range</th>\n",
       "      <th>node_density</th>\n",
       "      <th>iterations</th>\n",
       "      <th>ale</th>\n",
       "      <th>sd_ale</th>\n",
       "    </tr>\n",
       "  </thead>\n",
       "  <tbody>\n",
       "    <tr>\n",
       "      <th>0</th>\n",
       "      <td>30</td>\n",
       "      <td>15</td>\n",
       "      <td>200</td>\n",
       "      <td>40</td>\n",
       "      <td>0.773546</td>\n",
       "      <td>0.250555</td>\n",
       "    </tr>\n",
       "    <tr>\n",
       "      <th>1</th>\n",
       "      <td>15</td>\n",
       "      <td>15</td>\n",
       "      <td>100</td>\n",
       "      <td>70</td>\n",
       "      <td>0.911941</td>\n",
       "      <td>0.498329</td>\n",
       "    </tr>\n",
       "    <tr>\n",
       "      <th>2</th>\n",
       "      <td>30</td>\n",
       "      <td>15</td>\n",
       "      <td>100</td>\n",
       "      <td>50</td>\n",
       "      <td>0.814867</td>\n",
       "      <td>0.255546</td>\n",
       "    </tr>\n",
       "    <tr>\n",
       "      <th>3</th>\n",
       "      <td>15</td>\n",
       "      <td>20</td>\n",
       "      <td>100</td>\n",
       "      <td>20</td>\n",
       "      <td>1.435332</td>\n",
       "      <td>0.394603</td>\n",
       "    </tr>\n",
       "    <tr>\n",
       "      <th>4</th>\n",
       "      <td>30</td>\n",
       "      <td>15</td>\n",
       "      <td>100</td>\n",
       "      <td>40</td>\n",
       "      <td>1.265909</td>\n",
       "      <td>0.302943</td>\n",
       "    </tr>\n",
       "    <tr>\n",
       "      <th>5</th>\n",
       "      <td>22</td>\n",
       "      <td>18</td>\n",
       "      <td>100</td>\n",
       "      <td>24</td>\n",
       "      <td>1.457228</td>\n",
       "      <td>0.463309</td>\n",
       "    </tr>\n",
       "    <tr>\n",
       "      <th>6</th>\n",
       "      <td>18</td>\n",
       "      <td>23</td>\n",
       "      <td>100</td>\n",
       "      <td>14</td>\n",
       "      <td>1.912674</td>\n",
       "      <td>0.440208</td>\n",
       "    </tr>\n",
       "  </tbody>\n",
       "</table>\n",
       "</div>"
      ],
      "text/plain": [
       "   anchor_ratio  trans_range  node_density  iterations       ale    sd_ale\n",
       "0            30           15           200          40  0.773546  0.250555\n",
       "1            15           15           100          70  0.911941  0.498329\n",
       "2            30           15           100          50  0.814867  0.255546\n",
       "3            15           20           100          20  1.435332  0.394603\n",
       "4            30           15           100          40  1.265909  0.302943\n",
       "5            22           18           100          24  1.457228  0.463309\n",
       "6            18           23           100          14  1.912674  0.440208"
      ]
     },
     "execution_count": 98,
     "metadata": {},
     "output_type": "execute_result"
    }
   ],
   "source": [
    "#display 7 rows, but all columns\n",
    "Data_ALE.iloc[:7,:]"
   ]
  },
  {
   "cell_type": "code",
   "execution_count": 99,
   "id": "3801663a",
   "metadata": {},
   "outputs": [
    {
     "data": {
      "text/html": [
       "<div>\n",
       "<style scoped>\n",
       "    .dataframe tbody tr th:only-of-type {\n",
       "        vertical-align: middle;\n",
       "    }\n",
       "\n",
       "    .dataframe tbody tr th {\n",
       "        vertical-align: top;\n",
       "    }\n",
       "\n",
       "    .dataframe thead th {\n",
       "        text-align: right;\n",
       "    }\n",
       "</style>\n",
       "<table border=\"1\" class=\"dataframe\">\n",
       "  <thead>\n",
       "    <tr style=\"text-align: right;\">\n",
       "      <th></th>\n",
       "      <th>anchor_ratio</th>\n",
       "      <th>trans_range</th>\n",
       "      <th>node_density</th>\n",
       "      <th>iterations</th>\n",
       "      <th>ale</th>\n",
       "      <th>sd_ale</th>\n",
       "    </tr>\n",
       "  </thead>\n",
       "  <tbody>\n",
       "    <tr>\n",
       "      <th>0</th>\n",
       "      <td>30</td>\n",
       "      <td>15</td>\n",
       "      <td>200</td>\n",
       "      <td>40</td>\n",
       "      <td>0.773546</td>\n",
       "      <td>0.250555</td>\n",
       "    </tr>\n",
       "    <tr>\n",
       "      <th>1</th>\n",
       "      <td>15</td>\n",
       "      <td>15</td>\n",
       "      <td>100</td>\n",
       "      <td>70</td>\n",
       "      <td>0.911941</td>\n",
       "      <td>0.498329</td>\n",
       "    </tr>\n",
       "    <tr>\n",
       "      <th>2</th>\n",
       "      <td>30</td>\n",
       "      <td>15</td>\n",
       "      <td>100</td>\n",
       "      <td>50</td>\n",
       "      <td>0.814867</td>\n",
       "      <td>0.255546</td>\n",
       "    </tr>\n",
       "    <tr>\n",
       "      <th>3</th>\n",
       "      <td>15</td>\n",
       "      <td>20</td>\n",
       "      <td>100</td>\n",
       "      <td>20</td>\n",
       "      <td>1.435332</td>\n",
       "      <td>0.394603</td>\n",
       "    </tr>\n",
       "    <tr>\n",
       "      <th>4</th>\n",
       "      <td>30</td>\n",
       "      <td>15</td>\n",
       "      <td>100</td>\n",
       "      <td>40</td>\n",
       "      <td>1.265909</td>\n",
       "      <td>0.302943</td>\n",
       "    </tr>\n",
       "  </tbody>\n",
       "</table>\n",
       "</div>"
      ],
      "text/plain": [
       "   anchor_ratio  trans_range  node_density  iterations       ale    sd_ale\n",
       "0            30           15           200          40  0.773546  0.250555\n",
       "1            15           15           100          70  0.911941  0.498329\n",
       "2            30           15           100          50  0.814867  0.255546\n",
       "3            15           20           100          20  1.435332  0.394603\n",
       "4            30           15           100          40  1.265909  0.302943"
      ]
     },
     "execution_count": 99,
     "metadata": {},
     "output_type": "execute_result"
    }
   ],
   "source": [
    "#display 5 rows, but 10 columns\n",
    "Data_ALE.iloc[:5,:10]"
   ]
  },
  {
   "cell_type": "code",
   "execution_count": 100,
   "id": "ed800aab",
   "metadata": {},
   "outputs": [
    {
     "data": {
      "text/html": [
       "<div>\n",
       "<style scoped>\n",
       "    .dataframe tbody tr th:only-of-type {\n",
       "        vertical-align: middle;\n",
       "    }\n",
       "\n",
       "    .dataframe tbody tr th {\n",
       "        vertical-align: top;\n",
       "    }\n",
       "\n",
       "    .dataframe thead th {\n",
       "        text-align: right;\n",
       "    }\n",
       "</style>\n",
       "<table border=\"1\" class=\"dataframe\">\n",
       "  <thead>\n",
       "    <tr style=\"text-align: right;\">\n",
       "      <th></th>\n",
       "      <th>anchor_ratio</th>\n",
       "      <th>trans_range</th>\n",
       "      <th>node_density</th>\n",
       "    </tr>\n",
       "  </thead>\n",
       "  <tbody>\n",
       "    <tr>\n",
       "      <th>0</th>\n",
       "      <td>30</td>\n",
       "      <td>15</td>\n",
       "      <td>200</td>\n",
       "    </tr>\n",
       "    <tr>\n",
       "      <th>1</th>\n",
       "      <td>15</td>\n",
       "      <td>15</td>\n",
       "      <td>100</td>\n",
       "    </tr>\n",
       "    <tr>\n",
       "      <th>2</th>\n",
       "      <td>30</td>\n",
       "      <td>15</td>\n",
       "      <td>100</td>\n",
       "    </tr>\n",
       "    <tr>\n",
       "      <th>3</th>\n",
       "      <td>15</td>\n",
       "      <td>20</td>\n",
       "      <td>100</td>\n",
       "    </tr>\n",
       "    <tr>\n",
       "      <th>4</th>\n",
       "      <td>30</td>\n",
       "      <td>15</td>\n",
       "      <td>100</td>\n",
       "    </tr>\n",
       "    <tr>\n",
       "      <th>5</th>\n",
       "      <td>22</td>\n",
       "      <td>18</td>\n",
       "      <td>100</td>\n",
       "    </tr>\n",
       "    <tr>\n",
       "      <th>6</th>\n",
       "      <td>18</td>\n",
       "      <td>23</td>\n",
       "      <td>100</td>\n",
       "    </tr>\n",
       "  </tbody>\n",
       "</table>\n",
       "</div>"
      ],
      "text/plain": [
       "   anchor_ratio  trans_range  node_density\n",
       "0            30           15           200\n",
       "1            15           15           100\n",
       "2            30           15           100\n",
       "3            15           20           100\n",
       "4            30           15           100\n",
       "5            22           18           100\n",
       "6            18           23           100"
      ]
     },
     "execution_count": 100,
     "metadata": {},
     "output_type": "execute_result"
    }
   ],
   "source": [
    "#display 7 rows, but 3 columns\n",
    "Data_ALE.iloc[:7,:3]"
   ]
  },
  {
   "cell_type": "code",
   "execution_count": 101,
   "id": "89b39cda",
   "metadata": {},
   "outputs": [
    {
     "data": {
      "text/plain": [
       "0    30\n",
       "1    15\n",
       "2    30\n",
       "3    15\n",
       "4    30\n",
       "5    22\n",
       "6    18\n",
       "Name: anchor_ratio, dtype: int64"
      ]
     },
     "execution_count": 101,
     "metadata": {},
     "output_type": "execute_result"
    }
   ],
   "source": [
    "#display 6 rows but specify column names\n",
    "\n",
    "Data_ALE.loc[:6,'anchor_ratio']"
   ]
  },
  {
   "cell_type": "code",
   "execution_count": 102,
   "id": "5b4122c6",
   "metadata": {},
   "outputs": [
    {
     "data": {
      "text/html": [
       "<div>\n",
       "<style scoped>\n",
       "    .dataframe tbody tr th:only-of-type {\n",
       "        vertical-align: middle;\n",
       "    }\n",
       "\n",
       "    .dataframe tbody tr th {\n",
       "        vertical-align: top;\n",
       "    }\n",
       "\n",
       "    .dataframe thead th {\n",
       "        text-align: right;\n",
       "    }\n",
       "</style>\n",
       "<table border=\"1\" class=\"dataframe\">\n",
       "  <thead>\n",
       "    <tr style=\"text-align: right;\">\n",
       "      <th></th>\n",
       "      <th>trans_range</th>\n",
       "      <th>iterations</th>\n",
       "    </tr>\n",
       "  </thead>\n",
       "  <tbody>\n",
       "    <tr>\n",
       "      <th>0</th>\n",
       "      <td>15</td>\n",
       "      <td>40</td>\n",
       "    </tr>\n",
       "    <tr>\n",
       "      <th>1</th>\n",
       "      <td>15</td>\n",
       "      <td>70</td>\n",
       "    </tr>\n",
       "    <tr>\n",
       "      <th>2</th>\n",
       "      <td>15</td>\n",
       "      <td>50</td>\n",
       "    </tr>\n",
       "    <tr>\n",
       "      <th>3</th>\n",
       "      <td>20</td>\n",
       "      <td>20</td>\n",
       "    </tr>\n",
       "    <tr>\n",
       "      <th>4</th>\n",
       "      <td>15</td>\n",
       "      <td>40</td>\n",
       "    </tr>\n",
       "    <tr>\n",
       "      <th>5</th>\n",
       "      <td>18</td>\n",
       "      <td>24</td>\n",
       "    </tr>\n",
       "    <tr>\n",
       "      <th>6</th>\n",
       "      <td>23</td>\n",
       "      <td>14</td>\n",
       "    </tr>\n",
       "    <tr>\n",
       "      <th>7</th>\n",
       "      <td>25</td>\n",
       "      <td>15</td>\n",
       "    </tr>\n",
       "  </tbody>\n",
       "</table>\n",
       "</div>"
      ],
      "text/plain": [
       "   trans_range  iterations\n",
       "0           15          40\n",
       "1           15          70\n",
       "2           15          50\n",
       "3           20          20\n",
       "4           15          40\n",
       "5           18          24\n",
       "6           23          14\n",
       "7           25          15"
      ]
     },
     "execution_count": 102,
     "metadata": {},
     "output_type": "execute_result"
    }
   ],
   "source": [
    "#select 7 rows but specify trans_range and iterations columns\n",
    "Data_ALE.loc[:7, ['trans_range','iterations']]"
   ]
  },
  {
   "cell_type": "code",
   "execution_count": 103,
   "id": "9707044e",
   "metadata": {},
   "outputs": [
    {
     "data": {
      "text/html": [
       "<div>\n",
       "<style scoped>\n",
       "    .dataframe tbody tr th:only-of-type {\n",
       "        vertical-align: middle;\n",
       "    }\n",
       "\n",
       "    .dataframe tbody tr th {\n",
       "        vertical-align: top;\n",
       "    }\n",
       "\n",
       "    .dataframe thead th {\n",
       "        text-align: right;\n",
       "    }\n",
       "</style>\n",
       "<table border=\"1\" class=\"dataframe\">\n",
       "  <thead>\n",
       "    <tr style=\"text-align: right;\">\n",
       "      <th></th>\n",
       "      <th>anchor_ratio</th>\n",
       "      <th>trans_range</th>\n",
       "      <th>node_density</th>\n",
       "      <th>iterations</th>\n",
       "      <th>ale</th>\n",
       "      <th>sd_ale</th>\n",
       "    </tr>\n",
       "  </thead>\n",
       "  <tbody>\n",
       "    <tr>\n",
       "      <th>0</th>\n",
       "      <td>30</td>\n",
       "      <td>15</td>\n",
       "      <td>200</td>\n",
       "      <td>40</td>\n",
       "      <td>0.773546</td>\n",
       "      <td>0.250555</td>\n",
       "    </tr>\n",
       "    <tr>\n",
       "      <th>1</th>\n",
       "      <td>15</td>\n",
       "      <td>15</td>\n",
       "      <td>100</td>\n",
       "      <td>70</td>\n",
       "      <td>0.911941</td>\n",
       "      <td>0.498329</td>\n",
       "    </tr>\n",
       "    <tr>\n",
       "      <th>2</th>\n",
       "      <td>30</td>\n",
       "      <td>15</td>\n",
       "      <td>100</td>\n",
       "      <td>50</td>\n",
       "      <td>0.814867</td>\n",
       "      <td>0.255546</td>\n",
       "    </tr>\n",
       "    <tr>\n",
       "      <th>3</th>\n",
       "      <td>15</td>\n",
       "      <td>20</td>\n",
       "      <td>100</td>\n",
       "      <td>20</td>\n",
       "      <td>1.435332</td>\n",
       "      <td>0.394603</td>\n",
       "    </tr>\n",
       "    <tr>\n",
       "      <th>4</th>\n",
       "      <td>30</td>\n",
       "      <td>15</td>\n",
       "      <td>100</td>\n",
       "      <td>40</td>\n",
       "      <td>1.265909</td>\n",
       "      <td>0.302943</td>\n",
       "    </tr>\n",
       "    <tr>\n",
       "      <th>...</th>\n",
       "      <td>...</td>\n",
       "      <td>...</td>\n",
       "      <td>...</td>\n",
       "      <td>...</td>\n",
       "      <td>...</td>\n",
       "      <td>...</td>\n",
       "    </tr>\n",
       "    <tr>\n",
       "      <th>102</th>\n",
       "      <td>18</td>\n",
       "      <td>23</td>\n",
       "      <td>100</td>\n",
       "      <td>20</td>\n",
       "      <td>1.287472</td>\n",
       "      <td>0.375227</td>\n",
       "    </tr>\n",
       "    <tr>\n",
       "      <th>103</th>\n",
       "      <td>14</td>\n",
       "      <td>17</td>\n",
       "      <td>200</td>\n",
       "      <td>60</td>\n",
       "      <td>0.899102</td>\n",
       "      <td>0.231822</td>\n",
       "    </tr>\n",
       "    <tr>\n",
       "      <th>104</th>\n",
       "      <td>15</td>\n",
       "      <td>20</td>\n",
       "      <td>100</td>\n",
       "      <td>50</td>\n",
       "      <td>1.171140</td>\n",
       "      <td>0.372001</td>\n",
       "    </tr>\n",
       "    <tr>\n",
       "      <th>105</th>\n",
       "      <td>20</td>\n",
       "      <td>20</td>\n",
       "      <td>100</td>\n",
       "      <td>40</td>\n",
       "      <td>1.234493</td>\n",
       "      <td>0.599834</td>\n",
       "    </tr>\n",
       "    <tr>\n",
       "      <th>106</th>\n",
       "      <td>15</td>\n",
       "      <td>15</td>\n",
       "      <td>200</td>\n",
       "      <td>40</td>\n",
       "      <td>0.635426</td>\n",
       "      <td>0.139791</td>\n",
       "    </tr>\n",
       "  </tbody>\n",
       "</table>\n",
       "<p>105 rows × 6 columns</p>\n",
       "</div>"
      ],
      "text/plain": [
       "     anchor_ratio  trans_range  node_density  iterations       ale    sd_ale\n",
       "0              30           15           200          40  0.773546  0.250555\n",
       "1              15           15           100          70  0.911941  0.498329\n",
       "2              30           15           100          50  0.814867  0.255546\n",
       "3              15           20           100          20  1.435332  0.394603\n",
       "4              30           15           100          40  1.265909  0.302943\n",
       "..            ...          ...           ...         ...       ...       ...\n",
       "102            18           23           100          20  1.287472  0.375227\n",
       "103            14           17           200          60  0.899102  0.231822\n",
       "104            15           20           100          50  1.171140  0.372001\n",
       "105            20           20           100          40  1.234493  0.599834\n",
       "106            15           15           200          40  0.635426  0.139791\n",
       "\n",
       "[105 rows x 6 columns]"
      ]
     },
     "execution_count": 103,
     "metadata": {},
     "output_type": "execute_result"
    }
   ],
   "source": [
    "Data_ALE[Data_ALE['anchor_ratio'].astype(int)>10]"
   ]
  },
  {
   "cell_type": "code",
   "execution_count": 104,
   "id": "1ef6fa89",
   "metadata": {},
   "outputs": [],
   "source": [
    "#choose your target variable. Normally we call it y\n",
    "\n",
    "y = Data_ALE.anchor_ratio"
   ]
  },
  {
   "cell_type": "code",
   "execution_count": 105,
   "id": "7003946e",
   "metadata": {},
   "outputs": [
    {
     "data": {
      "text/plain": [
       "Index(['anchor_ratio', 'trans_range', 'node_density', 'iterations', 'ale',\n",
       "       'sd_ale'],\n",
       "      dtype='object')"
      ]
     },
     "execution_count": 105,
     "metadata": {},
     "output_type": "execute_result"
    }
   ],
   "source": [
    "#view the column names\n",
    "Data_ALE.columns"
   ]
  },
  {
   "cell_type": "code",
   "execution_count": 106,
   "id": "36d2a26d",
   "metadata": {},
   "outputs": [],
   "source": [
    "# create a list of features. For now we want to use just numeric columns. \n",
    "# remember that price is your target so it shouldn't be in your features.\n",
    "\n",
    "feature_columns = ['anchor_ratio', 'node_density', 'iterations', 'ale',\n",
    "       'sd_ale']"
   ]
  },
  {
   "cell_type": "code",
   "execution_count": 107,
   "id": "e0ff4bee",
   "metadata": {},
   "outputs": [],
   "source": [
    "#create X by filtering the housing data with selected features\n",
    "X = Data_ALE[feature_columns]"
   ]
  },
  {
   "cell_type": "code",
   "execution_count": 108,
   "id": "fdad336a",
   "metadata": {},
   "outputs": [
    {
     "data": {
      "text/html": [
       "<div>\n",
       "<style scoped>\n",
       "    .dataframe tbody tr th:only-of-type {\n",
       "        vertical-align: middle;\n",
       "    }\n",
       "\n",
       "    .dataframe tbody tr th {\n",
       "        vertical-align: top;\n",
       "    }\n",
       "\n",
       "    .dataframe thead th {\n",
       "        text-align: right;\n",
       "    }\n",
       "</style>\n",
       "<table border=\"1\" class=\"dataframe\">\n",
       "  <thead>\n",
       "    <tr style=\"text-align: right;\">\n",
       "      <th></th>\n",
       "      <th>anchor_ratio</th>\n",
       "      <th>node_density</th>\n",
       "      <th>iterations</th>\n",
       "      <th>ale</th>\n",
       "      <th>sd_ale</th>\n",
       "    </tr>\n",
       "  </thead>\n",
       "  <tbody>\n",
       "    <tr>\n",
       "      <th>0</th>\n",
       "      <td>30</td>\n",
       "      <td>200</td>\n",
       "      <td>40</td>\n",
       "      <td>0.773546</td>\n",
       "      <td>0.250555</td>\n",
       "    </tr>\n",
       "    <tr>\n",
       "      <th>1</th>\n",
       "      <td>15</td>\n",
       "      <td>100</td>\n",
       "      <td>70</td>\n",
       "      <td>0.911941</td>\n",
       "      <td>0.498329</td>\n",
       "    </tr>\n",
       "    <tr>\n",
       "      <th>2</th>\n",
       "      <td>30</td>\n",
       "      <td>100</td>\n",
       "      <td>50</td>\n",
       "      <td>0.814867</td>\n",
       "      <td>0.255546</td>\n",
       "    </tr>\n",
       "    <tr>\n",
       "      <th>3</th>\n",
       "      <td>15</td>\n",
       "      <td>100</td>\n",
       "      <td>20</td>\n",
       "      <td>1.435332</td>\n",
       "      <td>0.394603</td>\n",
       "    </tr>\n",
       "    <tr>\n",
       "      <th>4</th>\n",
       "      <td>30</td>\n",
       "      <td>100</td>\n",
       "      <td>40</td>\n",
       "      <td>1.265909</td>\n",
       "      <td>0.302943</td>\n",
       "    </tr>\n",
       "  </tbody>\n",
       "</table>\n",
       "</div>"
      ],
      "text/plain": [
       "   anchor_ratio  node_density  iterations       ale    sd_ale\n",
       "0            30           200          40  0.773546  0.250555\n",
       "1            15           100          70  0.911941  0.498329\n",
       "2            30           100          50  0.814867  0.255546\n",
       "3            15           100          20  1.435332  0.394603\n",
       "4            30           100          40  1.265909  0.302943"
      ]
     },
     "execution_count": 108,
     "metadata": {},
     "output_type": "execute_result"
    }
   ],
   "source": [
    "#view the first few rows of X\n",
    "X.head()"
   ]
  },
  {
   "cell_type": "code",
   "execution_count": 109,
   "id": "bfb17e7e",
   "metadata": {},
   "outputs": [],
   "source": [
    "from sklearn.model_selection import train_test_split, cross_val_score, cross_val_predict\n",
    "from sklearn.linear_model import LogisticRegression\n",
    "from sklearn.metrics import accuracy_score, classification_report\n",
    "from sklearn.tree import DecisionTreeClassifier\n",
    "from sklearn import tree\n",
    "from sklearn.neighbors import KNeighborsClassifier\n",
    "from sklearn.ensemble import RandomForestClassifier\n",
    "from sklearn.neural_network import MLPClassifier\n",
    "import seaborn as sns"
   ]
  },
  {
   "cell_type": "code",
   "execution_count": 126,
   "id": "012cba87",
   "metadata": {},
   "outputs": [],
   "source": [
    "#split into training and validation sets\n",
    "X_train,X_valid,y_train,y_valid = train_test_split(X,y,test_size=0.2)"
   ]
  },
  {
   "cell_type": "code",
   "execution_count": 127,
   "id": "fdc56212",
   "metadata": {},
   "outputs": [],
   "source": [
    "LR = LogisticRegression(random_state=1)"
   ]
  },
  {
   "cell_type": "code",
   "execution_count": 128,
   "id": "519a887f",
   "metadata": {},
   "outputs": [],
   "source": [
    "KN = KNeighborsClassifier()"
   ]
  },
  {
   "cell_type": "code",
   "execution_count": 129,
   "id": "feb3e965",
   "metadata": {},
   "outputs": [],
   "source": [
    "DC = DecisionTreeClassifier()"
   ]
  },
  {
   "cell_type": "code",
   "execution_count": 130,
   "id": "272a675e",
   "metadata": {},
   "outputs": [],
   "source": [
    "RF = RandomForestClassifier()"
   ]
  },
  {
   "cell_type": "code",
   "execution_count": 131,
   "id": "5ee39f48",
   "metadata": {},
   "outputs": [],
   "source": [
    "#create list of your model names\n",
    "models = [LR,KN,DC,RF]"
   ]
  },
  {
   "cell_type": "code",
   "execution_count": 132,
   "id": "904c567b",
   "metadata": {},
   "outputs": [],
   "source": [
    "#create function to train a model and evaluate accuracy\n",
    "def trainer(model,X_train,y_train,X_valid,y_valid):\n",
    "    #fit your model\n",
    "    model.fit(X_train,y_train)\n",
    "    #predict on the fit model\n",
    "    prediction = model.predict(X_valid)\n",
    "    #print evaluation metric\n",
    "    print('\\nFor {}, Accuracy score is {} \\n'.format(model.__class__.__name__,accuracy_score(prediction,y_valid)))\n",
    "    #print(classification_report(prediction,y_valid)) #use this later\n",
    "    "
   ]
  },
  {
   "cell_type": "code",
   "execution_count": 133,
   "id": "d3b29c3d",
   "metadata": {},
   "outputs": [
    {
     "name": "stderr",
     "output_type": "stream",
     "text": [
      "C:\\Users\\hp\\anaconda3\\lib\\site-packages\\sklearn\\linear_model\\_logistic.py:763: ConvergenceWarning: lbfgs failed to converge (status=1):\n",
      "STOP: TOTAL NO. of ITERATIONS REACHED LIMIT.\n",
      "\n",
      "Increase the number of iterations (max_iter) or scale the data as shown in:\n",
      "    https://scikit-learn.org/stable/modules/preprocessing.html\n",
      "Please also refer to the documentation for alternative solver options:\n",
      "    https://scikit-learn.org/stable/modules/linear_model.html#logistic-regression\n",
      "  n_iter_i = _check_optimize_result(\n"
     ]
    },
    {
     "name": "stdout",
     "output_type": "stream",
     "text": [
      "\n",
      "For LogisticRegression, Accuracy score is 0.5454545454545454 \n",
      "\n",
      "\n",
      "For KNeighborsClassifier, Accuracy score is 0.5909090909090909 \n",
      "\n",
      "\n",
      "For DecisionTreeClassifier, Accuracy score is 0.9545454545454546 \n",
      "\n",
      "\n",
      "For RandomForestClassifier, Accuracy score is 0.7272727272727273 \n",
      "\n"
     ]
    }
   ],
   "source": [
    "#loop through each model, training in the process\n",
    "for model in models:\n",
    "    trainer(model,X_train,y_train,X_valid,y_valid)\n",
    "    "
   ]
  },
  {
   "cell_type": "code",
   "execution_count": 134,
   "id": "c0a891cc",
   "metadata": {},
   "outputs": [
    {
     "data": {
      "text/plain": [
       "Text(0.5, 1.0, 'Feature importances for random forest')"
      ]
     },
     "execution_count": 134,
     "metadata": {},
     "output_type": "execute_result"
    },
    {
     "data": {
      "image/png": "[encoded data removed]",
      "text/plain": [
       "<Figure size 432x288 with 1 Axes>"
      ]
     },
     "metadata": {
      "needs_background": "light"
     },
     "output_type": "display_data"
    }
   ],
   "source": [
    "#feature importances\n",
    "pd.DataFrame(RF.feature_importances_,X.columns).sort_values(0,ascending=False)[:10].plot.barh()\n",
    "\n",
    "plt.title('Feature importances for random forest')"
   ]
  },
  {
   "cell_type": "code",
   "execution_count": null,
   "id": "b0d1d97a",
   "metadata": {},
   "outputs": [],
   "source": []
  }
 ],
 "metadata": {
  "kernelspec": {
   "display_name": "Python 3",
   "language": "python",
   "name": "python3"
  },
  "language_info": {
   "codemirror_mode": {
    "name": "ipython",
    "version": 3
   },
   "file_extension": ".py",
   "mimetype": "text/x-python",
   "name": "python",
   "nbconvert_exporter": "python",
   "pygments_lexer": "ipython3",
   "version": "3.8.8"
  }
 },
 "nbformat": 4,
 "nbformat_minor": 5
}
